{
  "nbformat": 4,
  "nbformat_minor": 0,
  "metadata": {
    "colab": {
      "provenance": [],
      "authorship_tag": "ABX9TyOcH5dMPgvRe9nv2WGBX+bh",
      "include_colab_link": true
    },
    "kernelspec": {
      "name": "python3",
      "display_name": "Python 3"
    },
    "language_info": {
      "name": "python"
    }
  },
  "cells": [
    {
      "cell_type": "markdown",
      "metadata": {
        "id": "view-in-github",
        "colab_type": "text"
      },
      "source": [
        "<a href=\"https://colab.research.google.com/github/Ishaqgopang/Assignment/blob/main/Weather.ipynb\" target=\"_parent\"><img src=\"https://colab.research.google.com/assets/colab-badge.svg\" alt=\"Open In Colab\"/></a>"
      ]
    },
    {
      "cell_type": "code",
      "execution_count": 45,
      "metadata": {
        "id": "CKuna_4iFgcp"
      },
      "outputs": [],
      "source": [
        "!pip install -Uq openai-agents \"openai-agents[litellm]\""
      ]
    },
    {
      "cell_type": "code",
      "source": [
        "import nest_asyncio\n",
        "nest_asyncio.apply()"
      ],
      "metadata": {
        "id": "7_qwn8LzLnmm"
      },
      "execution_count": 46,
      "outputs": []
    },
    {
      "cell_type": "code",
      "source": [
        "from __future__ import annotations\n",
        "import asyncio\n",
        "from agents import Agent, Runner, function_tool, set_tracing_disabled\n",
        "from agents.extensions.models.litellm_model import LitellmModel\n",
        "from google.colab import userdata\n",
        "import os\n",
        "import requests\n",
        "\n",
        "weather_api_key = userdata.get(\"WEATHER_API_KEY\")\n",
        "set_tracing_disabled(True)\n",
        "\n",
        "Model = \"gemini/gemini-2.0-flash\"\n",
        "gemini_api_key = userdata.get(\"GOOGLE_API_KEY\")\n",
        "\n",
        "@function_tool\n",
        "def get_weather(location: str) -> str:\n",
        "\n",
        "    api_key = \"61566790ed79d7172d075fbc6612df42\"  # Replace with your OpenWeatherMap API key\n",
        "    url = f\"http://api.openweathermap.org/data/2.5/weather?q={location}&appid={api_key}&units=metric\"\n",
        "\n",
        "\n",
        "    response = requests.get(url)\n",
        "    response.raise_for_status()\n",
        "    weather = response.json()\n",
        "    return (f\"Weather in {location}: {weather['weather'][0]['description'].capitalize()}, \"\n",
        "            f\"{weather['main']['temp']}°C.\")\n",
        "\n",
        "\n",
        "\n",
        "WeatherAgent = Agent(\n",
        "    name = \"Assistant\",\n",
        "    instructions= \"You will answer weather relevant questions\",\n",
        "    model = LitellmModel(model = Model, api_key = gemini_api_key),\n",
        "    tools= [get_weather],\n",
        "  )\n",
        "result = Runner.run_sync(\n",
        "     WeatherAgent,\n",
        "      \"Tell me the weather of Lahore, Pakistan?\",\n",
        ")\n",
        "print(result.final_output)\n",
        "\n",
        "# main(model= Model, api_key= api_key)\n",
        ""
      ],
      "metadata": {
        "colab": {
          "base_uri": "https://localhost:8080/"
        },
        "id": "KKPxPC7dLrzW",
        "outputId": "0c7fc202-2a41-4c8d-d877-3286c6bb3b05"
      },
      "execution_count": 74,
      "outputs": [
        {
          "output_type": "stream",
          "name": "stdout",
          "text": [
            "Weather in Lahore, Pakistan: Broken clouds, 34.99°C.\n",
            "\n"
          ]
        }
      ]
    },
    {
      "cell_type": "code",
      "source": [
        "result = Runner.run_sync(WeatherAgent, \"Tell me the weather of Murree, pakistan\")\n",
        "print(result.final_output)"
      ],
      "metadata": {
        "colab": {
          "base_uri": "https://localhost:8080/"
        },
        "id": "lQaQElLIkZ8M",
        "outputId": "973b3b1d-2679-4d35-d02c-8c86f00baf8e"
      },
      "execution_count": 63,
      "outputs": [
        {
          "output_type": "stream",
          "name": "stdout",
          "text": [
            "Weather in Murree, pakistan: Clear sky, 16.65°C.\n",
            "\n"
          ]
        }
      ]
    }
  ]
}